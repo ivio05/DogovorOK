{
  "nbformat": 4,
  "nbformat_minor": 0,
  "metadata": {
    "colab": {
      "provenance": []
    },
    "kernelspec": {
      "name": "python3",
      "display_name": "Python 3"
    },
    "language_info": {
      "name": "python"
    }
  },
  "cells": [
    {
      "cell_type": "code",
      "source": [
        "!pip install pymorphy3\n",
        "!pip uninstall docx\n",
        "!pip install python-docx"
      ],
      "metadata": {
        "colab": {
          "base_uri": "https://localhost:8080/"
        },
        "id": "D-YYOmP79YTz",
        "outputId": "57dd76a5-8224-4593-f08d-7b9079fc976b"
      },
      "execution_count": 4,
      "outputs": [
        {
          "output_type": "stream",
          "name": "stdout",
          "text": [
            "Collecting pymorphy3\n",
            "  Downloading pymorphy3-2.0.3-py3-none-any.whl.metadata (1.9 kB)\n",
            "Collecting dawg2-python>=0.8.0 (from pymorphy3)\n",
            "  Downloading dawg2_python-0.9.0-py3-none-any.whl.metadata (7.5 kB)\n",
            "Collecting pymorphy3-dicts-ru (from pymorphy3)\n",
            "  Downloading pymorphy3_dicts_ru-2.4.417150.4580142-py2.py3-none-any.whl.metadata (2.0 kB)\n",
            "Downloading pymorphy3-2.0.3-py3-none-any.whl (53 kB)\n",
            "\u001b[?25l   \u001b[90m━━━━━━━━━━━━━━━━━━━━━━━━━━━━━━━━━━━━━━━━\u001b[0m \u001b[32m0.0/53.8 kB\u001b[0m \u001b[31m?\u001b[0m eta \u001b[36m-:--:--\u001b[0m\r\u001b[2K   \u001b[90m━━━━━━━━━━━━━━━━━━━━━━━━━━━━━━━━━━━━━━━━\u001b[0m \u001b[32m53.8/53.8 kB\u001b[0m \u001b[31m3.5 MB/s\u001b[0m eta \u001b[36m0:00:00\u001b[0m\n",
            "\u001b[?25hDownloading dawg2_python-0.9.0-py3-none-any.whl (9.3 kB)\n",
            "Downloading pymorphy3_dicts_ru-2.4.417150.4580142-py2.py3-none-any.whl (8.4 MB)\n",
            "\u001b[2K   \u001b[90m━━━━━━━━━━━━━━━━━━━━━━━━━━━━━━━━━━━━━━━━\u001b[0m \u001b[32m8.4/8.4 MB\u001b[0m \u001b[31m98.8 MB/s\u001b[0m eta \u001b[36m0:00:00\u001b[0m\n",
            "\u001b[?25hInstalling collected packages: pymorphy3-dicts-ru, dawg2-python, pymorphy3\n",
            "Successfully installed dawg2-python-0.9.0 pymorphy3-2.0.3 pymorphy3-dicts-ru-2.4.417150.4580142\n",
            "\u001b[33mWARNING: Skipping docx as it is not installed.\u001b[0m\u001b[33m\n",
            "\u001b[0mCollecting python-docx\n",
            "  Downloading python_docx-1.1.2-py3-none-any.whl.metadata (2.0 kB)\n",
            "Requirement already satisfied: lxml>=3.1.0 in /usr/local/lib/python3.11/dist-packages (from python-docx) (5.3.1)\n",
            "Requirement already satisfied: typing-extensions>=4.9.0 in /usr/local/lib/python3.11/dist-packages (from python-docx) (4.13.0)\n",
            "Downloading python_docx-1.1.2-py3-none-any.whl (244 kB)\n",
            "\u001b[2K   \u001b[90m━━━━━━━━━━━━━━━━━━━━━━━━━━━━━━━━━━━━━━━━\u001b[0m \u001b[32m244.3/244.3 kB\u001b[0m \u001b[31m13.0 MB/s\u001b[0m eta \u001b[36m0:00:00\u001b[0m\n",
            "\u001b[?25hInstalling collected packages: python-docx\n",
            "Successfully installed python-docx-1.1.2\n"
          ]
        }
      ]
    },
    {
      "cell_type": "code",
      "execution_count": 13,
      "metadata": {
        "colab": {
          "base_uri": "https://localhost:8080/"
        },
        "id": "sSTHteQb7zjr",
        "outputId": "0cc1d3b6-e035-4f0c-aa68-a5ff0d58bfb2"
      },
      "outputs": [
        {
          "output_type": "stream",
          "name": "stdout",
          "text": [
            "{'государственная регистрация': True, 'роспатент': True, 'лицензионное соглашение': False, 'рабочие дни': True, 'запрет конкуренции': False, 'автоматическое расторжение': False}\n",
            "Юридическая оценка договора: 3\n"
          ]
        }
      ],
      "source": [
        "import re\n",
        "import pymorphy3\n",
        "from docx import Document\n",
        "\n",
        "def check_keywords(text):\n",
        "    morph = pymorphy3.MorphAnalyzer()\n",
        "    words = text.split()\n",
        "\n",
        "    state_registration_base = [morph.parse('государственная')[0].normal_form,\n",
        "                               morph.parse('регистрация')[0].normal_form]\n",
        "    license_base = [morph.parse('лицензионное')[0].normal_form,\n",
        "                               morph.parse('соглашение')[0].normal_form,\n",
        "                               morph.parse('договор')[0].normal_form,\n",
        "                               morph.parse('лицензиар')[0].normal_form,\n",
        "                               morph.parse('лицензиат')[0].normal_form]\n",
        "    rospatent_base = morph.parse('роспатент')[0].normal_form\n",
        "    working_days_base = [morph.parse('рабочие')[0].normal_form,\n",
        "                         morph.parse('дни')[0].normal_form]\n",
        "    competition_base = [morph.parse('запретить')[0].normal_form,\n",
        "                         morph.parse('запрещать')[0].normal_form,\n",
        "                         morph.parse('конкуренция')[0].normal_form]\n",
        "    automatic_null_base = [morph.parse('автоматический')[0].normal_form,\n",
        "                         morph.parse('прекращение')[0].normal_form,\n",
        "                         morph.parse('расторжение')[0].normal_form]\n",
        "\n",
        "    state_registration_found = False\n",
        "    rospatent_found = False\n",
        "    working_days_found = False\n",
        "    license_found = False\n",
        "    competition_found = False\n",
        "    automatic_null_found = False\n",
        "\n",
        "    registration_positions = []\n",
        "    working_days_positions = []\n",
        "\n",
        "    comp_ind = -100000\n",
        "\n",
        "    for index in range(len(words) - 1):\n",
        "        first_word = morph.parse(words[index])[0].normal_form\n",
        "        second_word = morph.parse(words[index + 1])[0].normal_form\n",
        "\n",
        "        if first_word == state_registration_base[0] and second_word == state_registration_base[1]:\n",
        "            state_registration_found = True\n",
        "            registration_positions.append(index)\n",
        "        if first_word == license_base[0] and (second_word == license_base[1] or second_word == license_base[2]):\n",
        "            license_found = True\n",
        "        if not license_found:\n",
        "            if license_base[3] in morph.parse(words[index])[0].normal_form or license_base[4] in morph.parse(words[index])[0].normal_form:\n",
        "                license_found = True\n",
        "        if rospatent_base in morph.parse(words[index])[0].normal_form:\n",
        "            rospatent_found = True\n",
        "        if competition_base[0] in morph.parse(words[index])[0].normal_form or competition_base[1] in morph.parse(words[index])[0].normal_form:\n",
        "            comp_ind = index\n",
        "        if competition_base[2] in morph.parse(words[index])[0].normal_form and index - comp_ind <= 4:\n",
        "            competition_found = True\n",
        "        if first_word == working_days_base[0] and second_word == working_days_base[1]:\n",
        "            working_days_found = True\n",
        "            working_days_positions.append(index)\n",
        "        if first_word == automatic_null_base[0] and (second_word == automatic_null_base[1] or second_word == automatic_null_base[2]):\n",
        "            automatic_null_found_found = True\n",
        "\n",
        "    results = {\n",
        "        \"государственная регистрация\": state_registration_found,\n",
        "        \"роспатент\": rospatent_found,\n",
        "        \"лицензионное соглашение\": license_found,\n",
        "        \"рабочие дни\": working_days_found,\n",
        "        \"запрет конкуренции\": competition_found,\n",
        "        \"автоматическое расторжение\": automatic_null_found\n",
        "    }\n",
        "    print(results)\n",
        "    for pos in registration_positions:\n",
        "        start = max(0, pos - 40)\n",
        "        end = min(len(words), pos + 2 + 40)\n",
        "        substring = ' '.join(words[start:end])\n",
        "        pattern = r'(d+)s+рабочихs+дней'\n",
        "        matches = re.findall(pattern, substring)\n",
        "\n",
        "\n",
        "\n",
        "    for pos in working_days_positions:\n",
        "        start = max(0, pos - 40)\n",
        "        end = min(len(words), pos + 2 + 40)\n",
        "        substring = ' '.join(words[start:end])\n",
        "        pattern = r'(d+)s+рабочиеs+дни'\n",
        "        matches = re.findall(pattern, substring)\n",
        "\n",
        "        if matches:\n",
        "            results[\"рабочие дни\"].extend(matches)\n",
        "\n",
        "    return results\n",
        "\n",
        "if __name__ == \"__main__\":\n",
        "\n",
        "    source = Document(\"contract.docx\")\n",
        "    document_text = ''\n",
        "    paras = source.paragraphs\n",
        "    for para in paras:\n",
        "        document_text += f'{para.text}\\n'\n",
        "\n",
        "    results = check_keywords(document_text)\n",
        "\n",
        "    current_mark = 3\n",
        "\n",
        "    if results['лицензионное соглашение']:\n",
        "        current_mark = 1\n",
        "    if results['автоматическое расторжение']:\n",
        "        current_mark = 1\n",
        "    if results['запрет конкуренции']:\n",
        "        current_mark = 1\n",
        "    if not results['государственная регистрация'] and not results['роспатент']:\n",
        "        current_mark = 1\n",
        "    elif not results['рабочие дни']:\n",
        "        current_mark = 2\n",
        "\n",
        "    print(f'Юридическая оценка договора: {current_mark}')\n",
        "\n",
        "\n"
      ]
    }
  ]
}