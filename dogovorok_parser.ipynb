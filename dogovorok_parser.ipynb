{
  "nbformat": 4,
  "nbformat_minor": 0,
  "metadata": {
    "colab": {
      "provenance": []
    },
    "kernelspec": {
      "name": "python3",
      "display_name": "Python 3"
    },
    "language_info": {
      "name": "python"
    }
  },
  "cells": [
    {
      "cell_type": "code",
      "source": [
        "!pip install pymorphy3\n",
        "!pip uninstall docx\n",
        "!pip install python-docx"
      ],
      "metadata": {
        "colab": {
          "base_uri": "https://localhost:8080/"
        },
        "id": "D-YYOmP79YTz",
        "outputId": "4bd328f1-40c0-4756-f71f-bff3ec9fa37b"
      },
      "execution_count": 8,
      "outputs": [
        {
          "output_type": "stream",
          "name": "stdout",
          "text": [
            "Requirement already satisfied: pymorphy3 in /usr/local/lib/python3.11/dist-packages (2.0.3)\n",
            "Requirement already satisfied: dawg2-python>=0.8.0 in /usr/local/lib/python3.11/dist-packages (from pymorphy3) (0.9.0)\n",
            "Requirement already satisfied: pymorphy3-dicts-ru in /usr/local/lib/python3.11/dist-packages (from pymorphy3) (2.4.417150.4580142)\n",
            "Found existing installation: docx 0.2.4\n",
            "Uninstalling docx-0.2.4:\n",
            "  Would remove:\n",
            "    /usr/local/docx-template/_rels/.rels\n",
            "    /usr/local/docx-template/docProps/thumbnail.jpeg\n",
            "    /usr/local/docx-template/word/fontTable.xml\n",
            "    /usr/local/docx-template/word/numbering.xml\n",
            "    /usr/local/docx-template/word/settings.xml\n",
            "    /usr/local/docx-template/word/styles.xml\n",
            "    /usr/local/docx-template/word/theme/theme1.xml\n",
            "    /usr/local/lib/python3.11/dist-packages/docx-0.2.4.dist-info/*\n",
            "    /usr/local/lib/python3.11/dist-packages/docx.py\n",
            "Proceed (Y/n)? y\n",
            "Y\n",
            "  Successfully uninstalled docx-0.2.4\n",
            "Requirement already satisfied: python-docx in /usr/local/lib/python3.11/dist-packages (1.1.2)\n",
            "Requirement already satisfied: lxml>=3.1.0 in /usr/local/lib/python3.11/dist-packages (from python-docx) (5.3.1)\n",
            "Requirement already satisfied: typing-extensions>=4.9.0 in /usr/local/lib/python3.11/dist-packages (from python-docx) (4.13.0)\n"
          ]
        }
      ]
    },
    {
      "cell_type": "code",
      "execution_count": 20,
      "metadata": {
        "colab": {
          "base_uri": "https://localhost:8080/"
        },
        "id": "sSTHteQb7zjr",
        "outputId": "81aceb47-3db0-46be-87f6-93943a542581"
      },
      "outputs": [
        {
          "output_type": "stream",
          "name": "stdout",
          "text": [
            "Слово \"государственная регистрация\" найдено в документе.\n",
            "Слово \"роспатент\" найдено в документе.\n",
            "Слово \"рабочие дни\" найдено в документе.\n"
          ]
        }
      ],
      "source": [
        "import re\n",
        "import pymorphy3\n",
        "from docx import Document\n",
        "\n",
        "def check_keywords(text):\n",
        "    morph = pymorphy3.MorphAnalyzer()\n",
        "    words = text.split()\n",
        "\n",
        "    state_registration_base = [morph.parse('государственная')[0].normal_form,\n",
        "                               morph.parse('регистрация')[0].normal_form]\n",
        "    rospatent_base = morph.parse('роспатент')[0].normal_form\n",
        "    working_days_base = [morph.parse('рабочие')[0].normal_form,\n",
        "                         morph.parse('дни')[0].normal_form]\n",
        "\n",
        "    state_registration_found = False\n",
        "    rospatent_found = False\n",
        "    working_days_found = False\n",
        "\n",
        "    registration_positions = []\n",
        "    working_days_positions = []\n",
        "\n",
        "    for index in range(len(words) - 1):\n",
        "        first_word = morph.parse(words[index])[0].normal_form\n",
        "        second_word = morph.parse(words[index + 1])[0].normal_form\n",
        "\n",
        "        if first_word == state_registration_base[0] and second_word == state_registration_base[1]:\n",
        "            state_registration_found = True\n",
        "            registration_positions.append(index)\n",
        "        if rospatent_base in morph.parse(words[index])[0].normal_form:\n",
        "            rospatent_found = True\n",
        "        if first_word == working_days_base[0] and second_word == working_days_base[1]:\n",
        "            working_days_found = True\n",
        "            working_days_positions.append(index)\n",
        "\n",
        "    results = {\n",
        "        \"государственная регистрация\": state_registration_found,\n",
        "        \"роспатент\": rospatent_found,\n",
        "        \"рабочие дни\": working_days_found,\n",
        "    }\n",
        "\n",
        "    for pos in registration_positions:\n",
        "        start = max(0, pos - 40)\n",
        "        end = min(len(words), pos + 2 + 40)\n",
        "        substring = ' '.join(words[start:end])\n",
        "        pattern = r'(d+)s+рабочихs+дней'\n",
        "        matches = re.findall(pattern, substring)\n",
        "\n",
        "\n",
        "\n",
        "    for pos in working_days_positions:\n",
        "        start = max(0, pos - 40)\n",
        "        end = min(len(words), pos + 2 + 40)\n",
        "        substring = ' '.join(words[start:end])\n",
        "        pattern = r'(d+)s+рабочиеs+дни'\n",
        "        matches = re.findall(pattern, substring)\n",
        "\n",
        "        if matches:\n",
        "            results[\"рабочие дни\"].extend(matches)\n",
        "\n",
        "    return results\n",
        "\n",
        "if __name__ == \"__main__\":\n",
        "\n",
        "    source = Document(\"РЕГИСТРАЦИЯ.docx\")\n",
        "    document_text = ''\n",
        "    paras = source.paragraphs\n",
        "    for para in paras:\n",
        "        document_text += f'{para.text}\\n'\n",
        "\n",
        "    results = check_keywords(document_text)\n",
        "\n",
        "    for keyword, found in results.items():\n",
        "        if isinstance(found, list) and found:\n",
        "            print(f'Найдены следующие значения для \"{keyword}\": {\", \".join(found)}')\n",
        "        elif found:\n",
        "            print(f'Слово \"{keyword}\" найдено в документе.')\n",
        "        else:\n",
        "            print(f'Слово \"{keyword}\" не найдено в документе.')\n",
        "\n",
        "\n"
      ]
    }
  ]
}